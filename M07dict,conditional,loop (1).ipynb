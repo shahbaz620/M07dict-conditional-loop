{
 "cells": [
  {
   "cell_type": "code",
   "execution_count": 1,
   "id": "a0030041-802c-42ea-aae7-bdf480aba9d7",
   "metadata": {},
   "outputs": [],
   "source": [
    "d = {}"
   ]
  },
  {
   "cell_type": "code",
   "execution_count": 2,
   "id": "4b3f6360-890f-4f4d-b46b-ee7456ff1b63",
   "metadata": {},
   "outputs": [
    {
     "data": {
      "text/plain": [
       "dict"
      ]
     },
     "execution_count": 2,
     "metadata": {},
     "output_type": "execute_result"
    }
   ],
   "source": [
    "type(d)"
   ]
  },
  {
   "cell_type": "code",
   "execution_count": 3,
   "id": "585a3491-356c-42c7-8527-444bc9e85515",
   "metadata": {},
   "outputs": [],
   "source": [
    "d1 ={'key' : ' shah' }"
   ]
  },
  {
   "cell_type": "code",
   "execution_count": 4,
   "id": "4a5fdfdf-9dbe-4456-8de9-b9f56f9a2404",
   "metadata": {},
   "outputs": [
    {
     "data": {
      "text/plain": [
       "{'key': ' shah'}"
      ]
     },
     "execution_count": 4,
     "metadata": {},
     "output_type": "execute_result"
    }
   ],
   "source": [
    "d1"
   ]
  },
  {
   "cell_type": "code",
   "execution_count": 5,
   "id": "feb6e087-0d99-4734-876b-1bbc420f70a2",
   "metadata": {},
   "outputs": [],
   "source": [
    "d2 = {'name ' : 'shahbaz' , 'email': ' shahbaz@gmail' , ' number ' : 321456}"
   ]
  },
  {
   "cell_type": "code",
   "execution_count": 6,
   "id": "d20ec771-067a-4f8e-ab95-110fd3ebe864",
   "metadata": {},
   "outputs": [
    {
     "data": {
      "text/plain": [
       "{'name ': 'shahbaz', 'email': ' shahbaz@gmail', ' number ': 321456}"
      ]
     },
     "execution_count": 6,
     "metadata": {},
     "output_type": "execute_result"
    }
   ],
   "source": [
    "d2"
   ]
  },
  {
   "cell_type": "code",
   "execution_count": 7,
   "id": "203c1dc4-5af2-4ba3-98bf-d1ea83df2244",
   "metadata": {},
   "outputs": [],
   "source": [
    "d3 ={234 : 'shah' , '_wer' : 'kumar' , True : 2145623}"
   ]
  },
  {
   "cell_type": "code",
   "execution_count": 8,
   "id": "dfed91d4-78dc-4daa-89b6-8297d3bb80a0",
   "metadata": {},
   "outputs": [
    {
     "data": {
      "text/plain": [
       "{234: 'shah', '_wer': 'kumar', True: 2145623}"
      ]
     },
     "execution_count": 8,
     "metadata": {},
     "output_type": "execute_result"
    }
   ],
   "source": [
    "d3"
   ]
  },
  {
   "cell_type": "code",
   "execution_count": 11,
   "id": "52eb7010-3319-4f60-b08a-73a4e1574128",
   "metadata": {},
   "outputs": [
    {
     "data": {
      "text/plain": [
       "'shah'"
      ]
     },
     "execution_count": 11,
     "metadata": {},
     "output_type": "execute_result"
    }
   ],
   "source": [
    "d3[234]"
   ]
  },
  {
   "cell_type": "code",
   "execution_count": 13,
   "id": "73fe2a52-c7c1-4da2-a569-9a1e6cba587f",
   "metadata": {},
   "outputs": [
    {
     "data": {
      "text/plain": [
       "2145623"
      ]
     },
     "execution_count": 13,
     "metadata": {},
     "output_type": "execute_result"
    }
   ],
   "source": [
    "d3[True]"
   ]
  },
  {
   "cell_type": "code",
   "execution_count": 14,
   "id": "c96f6852-c863-47e1-bb5d-83ba09f26716",
   "metadata": {},
   "outputs": [
    {
     "data": {
      "text/plain": [
       "2145623"
      ]
     },
     "execution_count": 14,
     "metadata": {},
     "output_type": "execute_result"
    }
   ],
   "source": [
    "d3[1]"
   ]
  },
  {
   "cell_type": "code",
   "execution_count": 15,
   "id": "d9d9e3b8-a7a3-4d76-ae07-70ba46ffbe1b",
   "metadata": {},
   "outputs": [],
   "source": [
    "d4 = {'name': 'shah' , 'mail_id':'ss@gmail.com','name' : 'shahbaz' }"
   ]
  },
  {
   "cell_type": "code",
   "execution_count": 20,
   "id": "d7e1c074-bdb3-4eab-bdf1-107897cb8edf",
   "metadata": {},
   "outputs": [
    {
     "data": {
      "text/plain": [
       "{'name ': 'shahbaz', 'mail_id': 'ss@gmail.com'}"
      ]
     },
     "execution_count": 20,
     "metadata": {},
     "output_type": "execute_result"
    }
   ],
   "source": [
    "d4"
   ]
  },
  {
   "cell_type": "code",
   "execution_count": 22,
   "id": "76285b0e-eaa7-4496-a3cb-2e509753686e",
   "metadata": {},
   "outputs": [],
   "source": [
    "d5 = {'company ' :' pwskills' , 'course' : [' webdev' , ' data science ' , 'java with dsa system design ']} "
   ]
  },
  {
   "cell_type": "code",
   "execution_count": 23,
   "id": "8ad928e3-4650-4262-8c75-dbbc107243c3",
   "metadata": {},
   "outputs": [
    {
     "data": {
      "text/plain": [
       "{'company ': ' pwskills',\n",
       " 'course': [' webdev', ' data science ', 'java with dsa system design ']}"
      ]
     },
     "execution_count": 23,
     "metadata": {},
     "output_type": "execute_result"
    }
   ],
   "source": [
    "d5"
   ]
  },
  {
   "cell_type": "code",
   "execution_count": 24,
   "id": "120b40ad-12a3-484b-aebc-279981a111cf",
   "metadata": {},
   "outputs": [
    {
     "data": {
      "text/plain": [
       "[' webdev', ' data science ', 'java with dsa system design ']"
      ]
     },
     "execution_count": 24,
     "metadata": {},
     "output_type": "execute_result"
    }
   ],
   "source": [
    "d5['course']"
   ]
  },
  {
   "cell_type": "code",
   "execution_count": 25,
   "id": "a97e5c5d-3e36-405b-b56c-11d0cd0f8693",
   "metadata": {},
   "outputs": [
    {
     "data": {
      "text/plain": [
       "'java with dsa system design '"
      ]
     },
     "execution_count": 25,
     "metadata": {},
     "output_type": "execute_result"
    }
   ],
   "source": [
    "d5['course'][2]"
   ]
  },
  {
   "cell_type": "code",
   "execution_count": 28,
   "id": "65cf504c-debe-4f0b-b46a-245c772dfd97",
   "metadata": {},
   "outputs": [],
   "source": [
    "d6 = {'number' : [2,34,3,34,34] , 'assignment ' : (1,2,3,4,5,6), 'launch date ' : {28,12,14}, 'class time' :{'web dev ' :8 , 'data science ' : 8,'java with dsa system design ': 7} }"
   ]
  },
  {
   "cell_type": "code",
   "execution_count": 29,
   "id": "3977f36f-b723-4cd0-a0c3-8c7b7f442d6f",
   "metadata": {},
   "outputs": [
    {
     "data": {
      "text/plain": [
       "{'number': [2, 34, 3, 34, 34],\n",
       " 'assignment ': (1, 2, 3, 4, 5, 6),\n",
       " 'launch date ': {12, 14, 28},\n",
       " 'class time': {'web dev ': 8,\n",
       "  'data science ': 8,\n",
       "  'java with dsa system design ': 7}}"
      ]
     },
     "execution_count": 29,
     "metadata": {},
     "output_type": "execute_result"
    }
   ],
   "source": [
    "d6"
   ]
  },
  {
   "cell_type": "code",
   "execution_count": 34,
   "id": "404613b6-49e3-4986-bef6-332685056952",
   "metadata": {},
   "outputs": [
    {
     "data": {
      "text/plain": [
       "{'web dev ': 8, 'data science ': 8, 'java with dsa system design ': 7}"
      ]
     },
     "execution_count": 34,
     "metadata": {},
     "output_type": "execute_result"
    }
   ],
   "source": [
    "d6['class time']"
   ]
  },
  {
   "cell_type": "code",
   "execution_count": 35,
   "id": "8aa12e3a-f9bf-4ea7-9fa9-3e53f53fa3fd",
   "metadata": {},
   "outputs": [
    {
     "data": {
      "text/plain": [
       "7"
      ]
     },
     "execution_count": 35,
     "metadata": {},
     "output_type": "execute_result"
    }
   ],
   "source": [
    "d6['class time'] [ 'java with dsa system design ']"
   ]
  },
  {
   "cell_type": "code",
   "execution_count": 36,
   "id": "430f4406-6448-420c-b2ce-cea399b11080",
   "metadata": {},
   "outputs": [],
   "source": [
    "d6 ['mentor']= ['sudhanshu' , 'krish' , 'anurag', 'hayder']"
   ]
  },
  {
   "cell_type": "code",
   "execution_count": 37,
   "id": "68a12a46-40be-4ce6-b550-db86cca48bf3",
   "metadata": {},
   "outputs": [
    {
     "data": {
      "text/plain": [
       "{'number': [2, 34, 3, 34, 34],\n",
       " 'assignment ': (1, 2, 3, 4, 5, 6),\n",
       " 'launch date ': {12, 14, 28},\n",
       " 'class time': {'web dev ': 8,\n",
       "  'data science ': 8,\n",
       "  'java with dsa system design ': 7},\n",
       " 'mentor': ['sudhanshu', 'krish', 'anurag', 'hayder']}"
      ]
     },
     "execution_count": 37,
     "metadata": {},
     "output_type": "execute_result"
    }
   ],
   "source": [
    "d6"
   ]
  },
  {
   "cell_type": "code",
   "execution_count": 38,
   "id": "bcf89441-e475-4bf1-abe2-327870d7cd66",
   "metadata": {},
   "outputs": [],
   "source": [
    "del d6 ['number']"
   ]
  },
  {
   "cell_type": "code",
   "execution_count": 39,
   "id": "3f4cb2ae-e38d-4113-bfe4-208fdc1bce8b",
   "metadata": {},
   "outputs": [
    {
     "data": {
      "text/plain": [
       "{'assignment ': (1, 2, 3, 4, 5, 6),\n",
       " 'launch date ': {12, 14, 28},\n",
       " 'class time': {'web dev ': 8,\n",
       "  'data science ': 8,\n",
       "  'java with dsa system design ': 7},\n",
       " 'mentor': ['sudhanshu', 'krish', 'anurag', 'hayder']}"
      ]
     },
     "execution_count": 39,
     "metadata": {},
     "output_type": "execute_result"
    }
   ],
   "source": [
    "d6"
   ]
  },
  {
   "cell_type": "code",
   "execution_count": 40,
   "id": "1fdb05b6-976f-4473-b415-330413c5e89e",
   "metadata": {},
   "outputs": [
    {
     "data": {
      "text/plain": [
       "dict_keys(['assignment ', 'launch date ', 'class time', 'mentor'])"
      ]
     },
     "execution_count": 40,
     "metadata": {},
     "output_type": "execute_result"
    }
   ],
   "source": [
    "d6.keys()"
   ]
  },
  {
   "cell_type": "code",
   "execution_count": 41,
   "id": "ff02f71b-2a2b-4372-b82e-5be4cf0d5523",
   "metadata": {},
   "outputs": [
    {
     "data": {
      "text/plain": [
       "['assignment ', 'launch date ', 'class time', 'mentor']"
      ]
     },
     "execution_count": 41,
     "metadata": {},
     "output_type": "execute_result"
    }
   ],
   "source": [
    "list(d6.keys())"
   ]
  },
  {
   "cell_type": "code",
   "execution_count": 42,
   "id": "07a77877-84ef-408b-ac5b-6bb8fe0aea51",
   "metadata": {},
   "outputs": [
    {
     "data": {
      "text/plain": [
       "dict_items([('assignment ', (1, 2, 3, 4, 5, 6)), ('launch date ', {28, 12, 14}), ('class time', {'web dev ': 8, 'data science ': 8, 'java with dsa system design ': 7}), ('mentor', ['sudhanshu', 'krish', 'anurag', 'hayder'])])"
      ]
     },
     "execution_count": 42,
     "metadata": {},
     "output_type": "execute_result"
    }
   ],
   "source": [
    "d6.items()"
   ]
  },
  {
   "cell_type": "code",
   "execution_count": 43,
   "id": "c8addc1f-6cea-4228-8a6c-f3b98c66c3cd",
   "metadata": {},
   "outputs": [
    {
     "data": {
      "text/plain": [
       "[('assignment ', (1, 2, 3, 4, 5, 6)),\n",
       " ('launch date ', {12, 14, 28}),\n",
       " ('class time',\n",
       "  {'web dev ': 8, 'data science ': 8, 'java with dsa system design ': 7}),\n",
       " ('mentor', ['sudhanshu', 'krish', 'anurag', 'hayder'])]"
      ]
     },
     "execution_count": 43,
     "metadata": {},
     "output_type": "execute_result"
    }
   ],
   "source": [
    "list(d6.items())"
   ]
  },
  {
   "cell_type": "code",
   "execution_count": 45,
   "id": "be765124-4bd7-491d-959d-4d5026ef4a8d",
   "metadata": {},
   "outputs": [
    {
     "data": {
      "text/plain": [
       "(1, 2, 3, 4, 5, 6)"
      ]
     },
     "execution_count": 45,
     "metadata": {},
     "output_type": "execute_result"
    }
   ],
   "source": [
    "d6.pop('assignment ')"
   ]
  },
  {
   "cell_type": "code",
   "execution_count": 46,
   "id": "e5a3defa-2332-4de3-800d-b6362ed42b1d",
   "metadata": {},
   "outputs": [
    {
     "data": {
      "text/plain": [
       "{'launch date ': {12, 14, 28},\n",
       " 'class time': {'web dev ': 8,\n",
       "  'data science ': 8,\n",
       "  'java with dsa system design ': 7},\n",
       " 'mentor': ['sudhanshu', 'krish', 'anurag', 'hayder']}"
      ]
     },
     "execution_count": 46,
     "metadata": {},
     "output_type": "execute_result"
    }
   ],
   "source": [
    "d6"
   ]
  },
  {
   "cell_type": "code",
   "execution_count": 48,
   "id": "24c259ce-da35-43b5-98d5-251b33717042",
   "metadata": {},
   "outputs": [
    {
     "name": "stdout",
     "output_type": "stream",
     "text": [
      "you will be a part of A1 batch \n"
     ]
    }
   ],
   "source": [
    "marks = 65\n",
    "if marks >=80 :\n",
    "    print('you will be a part of A0 batch')\n",
    "elif marks >= 60 and marks < 80:\n",
    "    print('you will be a part of A1 batch ')\n",
    "elif marks >= 40 and marks < 60:\n",
    "    print(\"you will be a part of A2 batch \")\n",
    "else :\n",
    "    print(\"you will be a part of A3 batch \")"
   ]
  },
  {
   "cell_type": "code",
   "execution_count": 50,
   "id": "d3465d2a-6b00-4503-8852-cd8b46a773c5",
   "metadata": {},
   "outputs": [
    {
     "name": "stdout",
     "output_type": "stream",
     "text": [
      "you will be a part of A3 batch \n"
     ]
    }
   ],
   "source": [
    "marks = 10\n",
    "if marks >=80 :\n",
    "    print('you will be a part of A0 batch')\n",
    "elif marks >= 60 and marks < 80:\n",
    "    print('you will be a part of A1 batch ')\n",
    "elif marks >= 40 and marks < 60:\n",
    "    print(\"you will be a part of A2 batch \")\n",
    "else :\n",
    "    print(\"you will be a part of A3 batch \")"
   ]
  },
  {
   "cell_type": "code",
   "execution_count": 51,
   "id": "f605229d-2101-444c-ba76-4474728f073a",
   "metadata": {},
   "outputs": [
    {
     "data": {
      "text/plain": [
       "False"
      ]
     },
     "execution_count": 51,
     "metadata": {},
     "output_type": "execute_result"
    }
   ],
   "source": [
    "10>= 80"
   ]
  },
  {
   "cell_type": "code",
   "execution_count": 1,
   "id": "be42f752-01e5-4e67-9955-1cd919098321",
   "metadata": {},
   "outputs": [
    {
     "name": "stdout",
     "output_type": "stream",
     "text": [
      "you will be a part of A2 batch \n"
     ]
    }
   ],
   "source": [
    "marks = 45\n",
    "if marks >=80 :\n",
    "    print('you will be a part of A0 batch')\n",
    "elif marks >= 60 and marks < 80:\n",
    "    print('you will be a part of A1 batch ')\n",
    "elif marks >= 40 and marks < 60:\n",
    "    print(\"you will be a part of A2 batch \")\n",
    "else :\n",
    "    print(\"you will be a part of A3 batch \")"
   ]
  },
  {
   "cell_type": "code",
   "execution_count": 4,
   "id": "5806b28b-1114-48b4-b4ba-e298bb6b4c5b",
   "metadata": {},
   "outputs": [
    {
     "name": "stdin",
     "output_type": "stream",
     "text": [
      "inter your marks 45\n"
     ]
    }
   ],
   "source": [
    "marks =int( input('inter your marks'))"
   ]
  },
  {
   "cell_type": "code",
   "execution_count": 5,
   "id": "4078a945-c3c4-4ef5-8755-abec88082418",
   "metadata": {},
   "outputs": [
    {
     "data": {
      "text/plain": [
       "int"
      ]
     },
     "execution_count": 5,
     "metadata": {},
     "output_type": "execute_result"
    }
   ],
   "source": [
    "type(marks)"
   ]
  },
  {
   "cell_type": "code",
   "execution_count": 6,
   "id": "c0554a05-df64-4664-88bf-3e8a94e4a60e",
   "metadata": {},
   "outputs": [
    {
     "name": "stdin",
     "output_type": "stream",
     "text": [
      "inter your marks 90\n"
     ]
    },
    {
     "name": "stdout",
     "output_type": "stream",
     "text": [
      "you will be a part of A0 batch\n"
     ]
    }
   ],
   "source": [
    "marks =int( input('inter your marks'))\n",
    "if marks >=80 :\n",
    "    print('you will be a part of A0 batch')\n",
    "elif marks >= 60 and marks < 80:\n",
    "    print('you will be a part of A1 batch ')\n",
    "elif marks >= 40 and marks < 60:\n",
    "    print(\"you will be a part of A2 batch \")\n",
    "else :\n",
    "    print(\"you will be a part of A3 batch \")"
   ]
  },
  {
   "cell_type": "code",
   "execution_count": 8,
   "id": "3c933d5e-c74c-410b-b576-a56514f74975",
   "metadata": {},
   "outputs": [
    {
     "name": "stdin",
     "output_type": "stream",
     "text": [
      "enter price 500\n"
     ]
    },
    {
     "name": "stdout",
     "output_type": "stream",
     "text": [
      "i will purchase\n"
     ]
    }
   ],
   "source": [
    "price = int(input(\"enter price\"))\n",
    "if price > 1000:\n",
    "    print (\"i will not purchase\")\n",
    "else :\n",
    "    print(\"i will purchase\")"
   ]
  },
  {
   "cell_type": "code",
   "execution_count": 10,
   "id": "b591a6e2-6e77-45a7-88ff-c1e9c6201601",
   "metadata": {},
   "outputs": [
    {
     "name": "stdin",
     "output_type": "stream",
     "text": [
      "enter price 200\n"
     ]
    }
   ],
   "source": [
    "price = int(input(\"enter price\"))\n",
    "if price > 1000:\n",
    "    print (\"i will not purchase\")"
   ]
  },
  {
   "cell_type": "code",
   "execution_count": 11,
   "id": "adc9a0a7-9d44-40a5-81d5-ed03df2664f6",
   "metadata": {},
   "outputs": [
    {
     "name": "stdin",
     "output_type": "stream",
     "text": [
      "enter price 7000\n"
     ]
    },
    {
     "name": "stdout",
     "output_type": "stream",
     "text": [
      "i will not purchase\n"
     ]
    }
   ],
   "source": [
    "price = int(input(\"enter price\"))\n",
    "if price > 1000:\n",
    "    print (\"i will not purchase\")"
   ]
  },
  {
   "cell_type": "code",
   "execution_count": 13,
   "id": "b6ef3a71-988a-466d-a9a4-03db73a2becb",
   "metadata": {},
   "outputs": [
    {
     "name": "stdin",
     "output_type": "stream",
     "text": [
      "enter price 1500\n"
     ]
    },
    {
     "name": "stdout",
     "output_type": "stream",
     "text": [
      "i will not purchase\n",
      "its ok\n"
     ]
    }
   ],
   "source": [
    "price = int(input(\"enter price\"))\n",
    "if price > 1000:\n",
    "    print (\"i will not purchase\")\n",
    "    if price > 5000:\n",
    "        print(\"this is too much \")\n",
    "    elif price  < 2000:\n",
    "        print(\"its ok\")"
   ]
  },
  {
   "cell_type": "code",
   "execution_count": 14,
   "id": "6e82a5dd-72c6-4087-8be8-e626db984385",
   "metadata": {},
   "outputs": [],
   "source": [
    "l = [1,2,3,4,5,6,7,8] "
   ]
  },
  {
   "cell_type": "code",
   "execution_count": 15,
   "id": "34d019ec-c45e-4211-b2b6-e9bc27944827",
   "metadata": {},
   "outputs": [
    {
     "data": {
      "text/plain": [
       "2"
      ]
     },
     "execution_count": 15,
     "metadata": {},
     "output_type": "execute_result"
    }
   ],
   "source": [
    "l[0] +1"
   ]
  },
  {
   "cell_type": "code",
   "execution_count": 16,
   "id": "50d063f6-926a-4382-aa59-aeff98e8f5a6",
   "metadata": {},
   "outputs": [],
   "source": [
    "l1 = [] "
   ]
  },
  {
   "cell_type": "code",
   "execution_count": 17,
   "id": "8618e126-5c40-40ae-9f87-43988eae8773",
   "metadata": {},
   "outputs": [],
   "source": [
    "l1.append(l[0] +1)"
   ]
  },
  {
   "cell_type": "code",
   "execution_count": 18,
   "id": "db911acc-8d8d-4f17-ac62-d695e77cea56",
   "metadata": {},
   "outputs": [
    {
     "data": {
      "text/plain": [
       "[2]"
      ]
     },
     "execution_count": 18,
     "metadata": {},
     "output_type": "execute_result"
    }
   ],
   "source": [
    "l1"
   ]
  },
  {
   "cell_type": "code",
   "execution_count": 19,
   "id": "851206c9-b0a7-4c9c-a2ed-8303de30cb07",
   "metadata": {},
   "outputs": [],
   "source": [
    "l = [1,2,3,4,5,6,7,8] "
   ]
  },
  {
   "cell_type": "code",
   "execution_count": 20,
   "id": "7c735cd0-b66a-42a6-a765-8cac0a15818c",
   "metadata": {},
   "outputs": [
    {
     "name": "stdout",
     "output_type": "stream",
     "text": [
      "1\n",
      "2\n",
      "3\n",
      "4\n",
      "5\n",
      "6\n",
      "7\n",
      "8\n"
     ]
    }
   ],
   "source": [
    "for i in l :\n",
    "    print(i)"
   ]
  },
  {
   "cell_type": "code",
   "execution_count": 25,
   "id": "410008f0-9bd8-4f20-9bc9-24bb127e21a4",
   "metadata": {},
   "outputs": [
    {
     "name": "stdout",
     "output_type": "stream",
     "text": [
      "2\n",
      "3\n",
      "4\n",
      "5\n",
      "6\n",
      "7\n",
      "8\n",
      "9\n"
     ]
    },
    {
     "data": {
      "text/plain": [
       "[2, 3, 4, 5, 6, 7, 8, 9]"
      ]
     },
     "execution_count": 25,
     "metadata": {},
     "output_type": "execute_result"
    }
   ],
   "source": [
    "l1 =[]\n",
    "for i in l :\n",
    "    print(i+1)\n",
    "    l1.append(i+1)\n",
    "l1"
   ]
  },
  {
   "cell_type": "code",
   "execution_count": 26,
   "id": "8aecc857-ade8-4004-bf73-e96a2e584e44",
   "metadata": {},
   "outputs": [
    {
     "data": {
      "text/plain": [
       "[2, 3, 4, 5, 6, 7, 8, 9]"
      ]
     },
     "execution_count": 26,
     "metadata": {},
     "output_type": "execute_result"
    }
   ],
   "source": [
    "l1"
   ]
  },
  {
   "cell_type": "code",
   "execution_count": 27,
   "id": "ecf459df-8c77-4b8e-8d4e-4131ce554ce1",
   "metadata": {},
   "outputs": [
    {
     "data": {
      "text/plain": [
       "[1, 2, 3, 4, 5, 6, 7, 8]"
      ]
     },
     "execution_count": 27,
     "metadata": {},
     "output_type": "execute_result"
    }
   ],
   "source": [
    "l"
   ]
  },
  {
   "cell_type": "code",
   "execution_count": 28,
   "id": "1d2b2d52-cb5f-4d49-83b3-43cb8664359a",
   "metadata": {},
   "outputs": [],
   "source": [
    "l = ['sudh', 'kumar', 'pwskills' , 'course'] "
   ]
  },
  {
   "cell_type": "code",
   "execution_count": 29,
   "id": "e5816b9c-af76-416f-854c-3618dd6cb290",
   "metadata": {},
   "outputs": [
    {
     "name": "stdout",
     "output_type": "stream",
     "text": [
      "sudh\n",
      "kumar\n",
      "pwskills\n",
      "course\n"
     ]
    }
   ],
   "source": [
    "for i in l :\n",
    "    print(i)"
   ]
  },
  {
   "cell_type": "code",
   "execution_count": 30,
   "id": "2e75e644-7bb0-4a30-bd59-d4b539133775",
   "metadata": {},
   "outputs": [
    {
     "name": "stdout",
     "output_type": "stream",
     "text": [
      "sudh\n",
      "kumar\n",
      "pwskills\n",
      "course\n"
     ]
    }
   ],
   "source": [
    "l1 =[]\n",
    "for i in l :\n",
    "    print(i)\n",
    "    l1.append(i.upper())"
   ]
  },
  {
   "cell_type": "code",
   "execution_count": 31,
   "id": "12ca0d4b-b6b8-4a0d-a6ec-e48f0c3ec083",
   "metadata": {},
   "outputs": [
    {
     "data": {
      "text/plain": [
       "['SUDH', 'KUMAR', 'PWSKILLS', 'COURSE']"
      ]
     },
     "execution_count": 31,
     "metadata": {},
     "output_type": "execute_result"
    }
   ],
   "source": [
    "l1"
   ]
  },
  {
   "cell_type": "code",
   "execution_count": 32,
   "id": "330dad5f-bd72-439d-8daf-915d1b84f0ab",
   "metadata": {},
   "outputs": [],
   "source": [
    "l = [1,2,3,4,4,'sudh', 'kumar',324,34.456,'abc'] "
   ]
  },
  {
   "cell_type": "code",
   "execution_count": 34,
   "id": "09e71507-b18a-4e07-8bd7-531b226910a7",
   "metadata": {},
   "outputs": [],
   "source": [
    "l1_num = []\n",
    "l2_str = []\n",
    "for i in l :\n",
    "    if type(i) == int or type(i) == float :\n",
    "        l1_num.append(i)\n",
    "    else :\n",
    "        l2_str.append(i)\n",
    "    "
   ]
  },
  {
   "cell_type": "code",
   "execution_count": 35,
   "id": "a970b99b-84e1-4de3-b3c1-d15b248c266e",
   "metadata": {},
   "outputs": [
    {
     "data": {
      "text/plain": [
       "[1, 2, 3, 4, 4, 324, 34.456]"
      ]
     },
     "execution_count": 35,
     "metadata": {},
     "output_type": "execute_result"
    }
   ],
   "source": [
    "l1_num"
   ]
  },
  {
   "cell_type": "code",
   "execution_count": 36,
   "id": "3b3b5a8b-cb5f-431b-8909-dec2fd88e6b2",
   "metadata": {},
   "outputs": [
    {
     "data": {
      "text/plain": [
       "['sudh', 'kumar', 'abc']"
      ]
     },
     "execution_count": 36,
     "metadata": {},
     "output_type": "execute_result"
    }
   ],
   "source": [
    "l2_str"
   ]
  },
  {
   "cell_type": "code",
   "execution_count": null,
   "id": "f90a8734-8b8c-4529-86d4-c214b3ab2c41",
   "metadata": {},
   "outputs": [],
   "source": []
  }
 ],
 "metadata": {
  "kernelspec": {
   "display_name": "Python 3 (ipykernel)",
   "language": "python",
   "name": "python3"
  },
  "language_info": {
   "codemirror_mode": {
    "name": "ipython",
    "version": 3
   },
   "file_extension": ".py",
   "mimetype": "text/x-python",
   "name": "python",
   "nbconvert_exporter": "python",
   "pygments_lexer": "ipython3",
   "version": "3.10.8"
  }
 },
 "nbformat": 4,
 "nbformat_minor": 5
}
